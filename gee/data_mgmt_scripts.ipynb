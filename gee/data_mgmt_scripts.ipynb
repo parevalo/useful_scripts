{
 "cells": [
  {
   "cell_type": "code",
   "execution_count": 1,
   "metadata": {},
   "outputs": [
    {
     "data": {
      "text/html": [
       "<p>To authorize access needed by Earth Engine, open the following\n",
       "        URL in a web browser and follow the instructions:</p>\n",
       "        <p><a href=https://code.earthengine.google.com/client-auth?scopes=https%3A//www.googleapis.com/auth/earthengine%20https%3A//www.googleapis.com/auth/devstorage.full_control&request_id=pkBZblHShzMTQN5bM0s9GHwMaaYt2V4sWDHi5Xw_Sj8&tc=bBysk8SrLi-3PWqdhcDKGeH4qxdPBwyunlB1Ah3fQ0c&cc=Fdi5X7jAE2ADelZ58GABNw5otDf78bcV_tH-2vxgSfs>https://code.earthengine.google.com/client-auth?scopes=https%3A//www.googleapis.com/auth/earthengine%20https%3A//www.googleapis.com/auth/devstorage.full_control&request_id=pkBZblHShzMTQN5bM0s9GHwMaaYt2V4sWDHi5Xw_Sj8&tc=bBysk8SrLi-3PWqdhcDKGeH4qxdPBwyunlB1Ah3fQ0c&cc=Fdi5X7jAE2ADelZ58GABNw5otDf78bcV_tH-2vxgSfs</a></p>\n",
       "        <p>The authorization workflow will generate a code, which you should paste in the box below.</p>\n",
       "        "
      ],
      "text/plain": [
       "<IPython.core.display.HTML object>"
      ]
     },
     "metadata": {},
     "output_type": "display_data"
    },
    {
     "name": "stdout",
     "output_type": "stream",
     "text": [
      "\n",
      "Successfully saved authorization token.\n"
     ]
    }
   ],
   "source": [
    "import ee\n",
    "ee.Initialize()\n",
    "ee.Authenticate()"
   ]
  },
  {
   "cell_type": "code",
   "execution_count": null,
   "metadata": {
    "collapsed": true,
    "jupyter": {
     "outputs_hidden": true,
     "source_hidden": true
    },
    "tags": []
   },
   "outputs": [],
   "source": [
    "ee.data.getTaskList()"
   ]
  },
  {
   "attachments": {},
   "cell_type": "markdown",
   "metadata": {},
   "source": [
    "## Delete assets in folder"
   ]
  },
  {
   "cell_type": "markdown",
   "metadata": {},
   "source": [
    "### Delete by match"
   ]
  },
  {
   "cell_type": "code",
   "execution_count": 6,
   "metadata": {
    "tags": []
   },
   "outputs": [
    {
     "data": {
      "text/plain": [
       "['projects/GLANCE/DATA_CATALOG/V001/304_2001-07-01',\n",
       " 'projects/GLANCE/DATA_CATALOG/V001/304_2002-07-01',\n",
       " 'projects/GLANCE/DATA_CATALOG/V001/304_2003-07-01',\n",
       " 'projects/GLANCE/DATA_CATALOG/V001/304_2018-07-01',\n",
       " 'projects/GLANCE/DATA_CATALOG/V001/305_2001-07-01',\n",
       " 'projects/GLANCE/DATA_CATALOG/V001/305_2002-07-01',\n",
       " 'projects/GLANCE/DATA_CATALOG/V001/305_2003-07-01',\n",
       " 'projects/GLANCE/DATA_CATALOG/V001/305_2004-07-01',\n",
       " 'projects/GLANCE/DATA_CATALOG/V001/305_2005-07-01',\n",
       " 'projects/GLANCE/DATA_CATALOG/V001/305_2006-07-01',\n",
       " 'projects/GLANCE/DATA_CATALOG/V001/305_2007-07-01',\n",
       " 'projects/GLANCE/DATA_CATALOG/V001/305_2008-07-01',\n",
       " 'projects/GLANCE/DATA_CATALOG/V001/305_2009-07-01',\n",
       " 'projects/GLANCE/DATA_CATALOG/V001/305_2010-07-01',\n",
       " 'projects/GLANCE/DATA_CATALOG/V001/305_2011-07-01',\n",
       " 'projects/GLANCE/DATA_CATALOG/V001/305_2012-07-01',\n",
       " 'projects/GLANCE/DATA_CATALOG/V001/305_2013-07-01',\n",
       " 'projects/GLANCE/DATA_CATALOG/V001/305_2014-07-01',\n",
       " 'projects/GLANCE/DATA_CATALOG/V001/305_2015-07-01',\n",
       " 'projects/GLANCE/DATA_CATALOG/V001/305_2016-07-01',\n",
       " 'projects/GLANCE/DATA_CATALOG/V001/305_2017-07-01',\n",
       " 'projects/GLANCE/DATA_CATALOG/V001/305_2018-07-01',\n",
       " 'projects/GLANCE/DATA_CATALOG/V001/305_2019-07-01']"
      ]
     },
     "execution_count": 6,
     "metadata": {},
     "output_type": "execute_result"
    }
   ],
   "source": [
    "folder = 'projects/earthengine-legacy/assets/projects/GLANCE/DATA_CATALOG/V001'\n",
    "subs = ''\n",
    "\n",
    "asset_list = ee.data.listAssets({'parent': folder})['assets']\n",
    "asset_id_list = [x['id'] for x in asset_list]\n",
    "delete_list = [i for i in asset_id_list if subs in i]\n",
    "delete_list"
   ]
  },
  {
   "cell_type": "markdown",
   "metadata": {},
   "source": [
    "**WARNING: THIS WILL DELETE THE FILES ABOVE**"
   ]
  },
  {
   "cell_type": "code",
   "execution_count": 7,
   "metadata": {
    "tags": []
   },
   "outputs": [
    {
     "data": {
      "text/plain": [
       "[None,\n",
       " None,\n",
       " None,\n",
       " None,\n",
       " None,\n",
       " None,\n",
       " None,\n",
       " None,\n",
       " None,\n",
       " None,\n",
       " None,\n",
       " None,\n",
       " None,\n",
       " None,\n",
       " None,\n",
       " None,\n",
       " None,\n",
       " None,\n",
       " None,\n",
       " None,\n",
       " None,\n",
       " None,\n",
       " None]"
      ]
     },
     "execution_count": 7,
     "metadata": {},
     "output_type": "execute_result"
    }
   ],
   "source": [
    "[ee.data.deleteAsset(i) for i in delete_list]"
   ]
  },
  {
   "cell_type": "markdown",
   "metadata": {},
   "source": [
    "### Delete by exact name"
   ]
  },
  {
   "cell_type": "code",
   "execution_count": 8,
   "metadata": {},
   "outputs": [
    {
     "name": "stdout",
     "output_type": "stream",
     "text": [
      "['projects/GLANCE/RESULTS/CLASSIFICATION/VERSION_1/EU/V1-4/LCMAPS_newTrainV5_v1-4-1_315', 'projects/GLANCE/RESULTS/CLASSIFICATION/VERSION_1/EU/V1-4/LCMAPS_newTrainV5_v1-4-1_316', 'projects/GLANCE/RESULTS/CLASSIFICATION/VERSION_1/EU/V1-4/LCMAPS_newTrainV5_v1-4-1_317', 'projects/GLANCE/RESULTS/CLASSIFICATION/VERSION_1/EU/V1-4/LCMAPS_newTrainV5_v1-4-1_319', 'projects/GLANCE/RESULTS/CLASSIFICATION/VERSION_1/EU/V1-4/LCMAPS_newTrainV5_v1-4-1_339', 'projects/GLANCE/RESULTS/CLASSIFICATION/VERSION_1/EU/V1-4/LCMAPS_newTrainV5_v1-4-1_340', 'projects/GLANCE/RESULTS/CLASSIFICATION/VERSION_1/EU/V1-4/LCMAPS_newTrainV5_v1-4-1_374', 'projects/GLANCE/RESULTS/CLASSIFICATION/VERSION_1/EU/V1-4/LCMAPS_newTrainV5_v1-4-1_375', 'projects/GLANCE/RESULTS/CLASSIFICATION/VERSION_1/EU/V1-4/LCMAPS_newTrainV5_v1-4-1_376', 'projects/GLANCE/RESULTS/CLASSIFICATION/VERSION_1/EU/V1-4/LCMAPS_newTrainV5_v1-4-1_407', 'projects/GLANCE/RESULTS/CLASSIFICATION/VERSION_1/EU/V1-4/LCMAPS_newTrainV5_v1-4-1_408']\n"
     ]
    }
   ],
   "source": [
    "ids = [315,316,317,319,339,340,374,375,376,407,408]\n",
    "folder = 'projects/GLANCE/RESULTS/CLASSIFICATION/VERSION_1/EU/V1-4/'\n",
    "delete_list = [folder + 'LCMAPS_newTrainV5_v1-4-1_' + str(x) for x in ids]\n",
    "print(delete_list)"
   ]
  },
  {
   "cell_type": "code",
   "execution_count": 9,
   "metadata": {},
   "outputs": [
    {
     "data": {
      "text/plain": [
       "[None, None, None, None, None, None, None, None, None, None, None]"
      ]
     },
     "execution_count": 9,
     "metadata": {},
     "output_type": "execute_result"
    }
   ],
   "source": [
    "[ee.data.deleteAsset(i) for i in delete_list]"
   ]
  },
  {
   "cell_type": "code",
   "execution_count": 27,
   "metadata": {},
   "outputs": [],
   "source": [
    "ee.data.deleteAsset('projects/GLANCE/RESULTS/CLASSIFICATION/VERSION_1/SA/V1-4/LCMAPS_newTrainV7B_misclass_v1-4-2_177')"
   ]
  },
  {
   "cell_type": "code",
   "execution_count": null,
   "metadata": {},
   "outputs": [],
   "source": []
  },
  {
   "attachments": {},
   "cell_type": "markdown",
   "metadata": {},
   "source": [
    "## Move assets in folder / rename"
   ]
  },
  {
   "cell_type": "code",
   "execution_count": 17,
   "metadata": {
    "collapsed": true,
    "jupyter": {
     "outputs_hidden": true
    }
   },
   "outputs": [
    {
     "data": {
      "text/plain": [
       "['projects/GLANCE/DATA_CATALOG/V001_STACK/TILE_304',\n",
       " 'projects/GLANCE/DATA_CATALOG/V001_STACK/TILE_305',\n",
       " 'projects/GLANCE/DATA_CATALOG/V001_STACK/TILE_306',\n",
       " 'projects/GLANCE/DATA_CATALOG/V001_STACK/mapTile_292']"
      ]
     },
     "execution_count": 17,
     "metadata": {},
     "output_type": "execute_result"
    }
   ],
   "source": [
    "BASEFOLDER = \"projects/earthengine-legacy/assets/projects/GLANCE/\"\n",
    "folder = BASEFOLDER + \"DATA_CATALOG/V001_STACK\"\n",
    "newfolder = BASEFOLDER + \"CATALOG_TESTS/V001_STACK/\"\n",
    "subs = ''\n",
    "\n",
    "asset_list = ee.data.listAssets({'parent': folder})['assets']\n",
    "asset_id_list = [x['id'] for x in asset_list]\n",
    "\n",
    "# Get filenames\n",
    "move_list = [i for i in asset_id_list if subs in i]\n",
    "move_list"
   ]
  },
  {
   "cell_type": "code",
   "execution_count": 19,
   "metadata": {},
   "outputs": [],
   "source": [
    "for i in move_list:\n",
    "    fname = i.split(\"/\")[-1]\n",
    "    # fname = i.split(\"V001QC\")[-1]\n",
    "    # print(newfolder+ fname)\n",
    "    ee.data.renameAsset(i, newfolder + fname) "
   ]
  },
  {
   "cell_type": "markdown",
   "metadata": {},
   "source": [
    "#### Rename by filtering and replacing"
   ]
  },
  {
   "cell_type": "code",
   "execution_count": 33,
   "metadata": {},
   "outputs": [],
   "source": [
    "collection = 'projects/GLANCE/RESULTS/CLASSIFICATION/VERSION_1/NA/V1-4'\n",
    "tile_list = ee.ImageCollection(collection).filter(ee.Filter.stringContains('tileName', 'LCMAPS_v1-4-4_origParams')).aggregate_array('tileName').getInfo()\n",
    "for tile in tile_list:\n",
    "    orig_name = collection + \"/\" + tile.replace('v1-4-4', 'v1-4-3')\n",
    "    new_name = collection + \"/\" + tile\n",
    "    # print(orig_name, new_name)\n",
    "    ee.data.renameAsset(orig_name, new_name) \n",
    " "
   ]
  },
  {
   "cell_type": "markdown",
   "metadata": {},
   "source": [
    "### Rename assets individually"
   ]
  },
  {
   "cell_type": "code",
   "execution_count": 2,
   "metadata": {},
   "outputs": [],
   "source": [
    "ids = [400]\n",
    "folder = 'projects/GLANCE/RESULTS/CLASSIFICATION/VERSION_1/OC/V1-4/'\n",
    "for x in ids:\n",
    "    old_name = folder + 'LCMAPS_newTrainV12_v1-4-3_SR48_' + str(x) \n",
    "    new_name = folder + 'LCMAPS_newTrainV12_v1-4-4_SR48_' + str(x)\n",
    "    ee.data.renameAsset(old_name, new_name) "
   ]
  },
  {
   "cell_type": "markdown",
   "metadata": {},
   "source": [
    "## Modify properties"
   ]
  },
  {
   "cell_type": "markdown",
   "metadata": {},
   "source": [
    "### Manually"
   ]
  },
  {
   "cell_type": "code",
   "execution_count": 3,
   "metadata": {},
   "outputs": [],
   "source": [
    "ids = [188, 189, 190, 191, 192, 217,218, 219, 220, 247]\n",
    "folder = 'projects/GLANCE/RESULTS/CLASSIFICATION/VERSION_1/OC/V1-4/'\n",
    "for x in ids:\n",
    "    asset = folder + 'LCMAPS_newTrainV12_v1-4-4_SR48_' + str(x)\n",
    "    props = dict(ee.Image(asset).toDictionary().getInfo())\n",
    "    props['outName'] = 'LCMAPS_newTrainV12_v1-4-4_SR48'\n",
    "    props['tileName'] = 'LCMAPS_newTrainV12_v1-4-4_SR48_' + str(x)\n",
    "    ee.data.setAssetProperties(asset , props)\n",
    "\n",
    "# print(newprops)"
   ]
  },
  {
   "cell_type": "markdown",
   "metadata": {},
   "source": [
    "#### Programatically"
   ]
  },
  {
   "cell_type": "code",
   "execution_count": 30,
   "metadata": {},
   "outputs": [],
   "source": [
    "collection = 'projects/GLANCE/RESULTS/CLASSIFICATION/VERSION_1/NA/V1-4'\n",
    "tile_list = ee.ImageCollection(collection).filter(ee.Filter.stringContains('tileName', 'LCMAPS_v1-4-3_origParams')).aggregate_array('tileName').getInfo()\n",
    "for tile in tile_list:\n",
    "    asset = collection + '/' + tile\n",
    "    props = dict(ee.Image(asset).toDictionary().getInfo())\n",
    "    outName = \"_\".join(tile.split('_')[0:-1]).replace('v1-4-3', 'v1-4-4')\n",
    "    props['outName'] = outName\n",
    "    props['tileName'] = props['tileName'].replace('v1-4-3', 'v1-4-4')\n",
    "    ee.data.setAssetProperties(asset , props)"
   ]
  },
  {
   "cell_type": "code",
   "execution_count": 18,
   "metadata": {},
   "outputs": [
    {
     "name": "stdout",
     "output_type": "stream",
     "text": [
      "{'ASPECT': 640.9583616537744, 'DEM_SLOPE': 883.9865876209506, 'DEVELOPED': 370.56260288211087, 'ELEVATION': 867.4024085025859, 'GREEN_AMPLITUDE': 709.7352824491501, 'GREEN_AMPLITUDE2': 467.8363265923365, 'GREEN_AMPLITUDE3': 285.3607652357071, 'GREEN_INTP': 826.0420966783057, 'GREEN_PHASE': 560.0077419872159, 'GREEN_PHASE2': 290.36370860420783, 'GREEN_PHASE3': 184.11708686757464, 'GREEN_RMSE': 735.3971210655953, 'GREEN_SLP': 581.3523942673676, 'GREEN_SYNT': 881.5507510205518, 'GREEN_SYNT2': 802.8698313529388, 'NIR_AMPLITUDE': 750.7737214053378, 'NIR_AMPLITUDE2': 729.5509379555863, 'NIR_AMPLITUDE3': 699.0215828196988, 'NIR_INTP': 839.1299506380767, 'NIR_PHASE': 685.886943802406, 'NIR_PHASE2': 610.150687507615, 'NIR_PHASE3': 497.5575880211349, 'NIR_RMSE': 874.1746875029895, 'NIR_SLP': 653.3120969223173, 'NIR_SYNT': 857.6801396244299, 'NIR_SYNT2': 814.0544168418007, 'POPULATION': 970.2912983124379, 'RAINFALL': 830.2444691503109, 'RED_AMPLITUDE': 694.6258570259292, 'RED_AMPLITUDE2': 624.6947085828328, 'RED_AMPLITUDE3': 477.69232923317384, 'RED_INTP': 827.6024053125581, 'RED_PHASE': 642.9198801144237, 'RED_PHASE2': 437.3444601517165, 'RED_PHASE3': 329.2712760643092, 'RED_RMSE': 719.5069573837644, 'RED_SLP': 582.3324338511728, 'RED_SYNT': 883.2304936102736, 'RED_SYNT2': 801.8112611721043, 'SWIR1_AMPLITUDE': 733.8299550293912, 'SWIR1_AMPLITUDE2': 687.1633099512526, 'SWIR1_AMPLITUDE3': 566.336737761993, 'SWIR1_INTP': 771.2798788514314, 'SWIR1_PHASE': 703.9432454955854, 'SWIR1_PHASE2': 525.9502966682556, 'SWIR1_PHASE3': 447.29252809728536, 'SWIR1_RMSE': 820.7417978027206, 'SWIR1_SLP': 612.9880681052894, 'SWIR1_SYNT': 839.7305312592811, 'SWIR1_SYNT2': 727.3381168670714, 'SWIR2_AMPLITUDE': 705.8969764788502, 'SWIR2_AMPLITUDE2': 648.5231564502933, 'SWIR2_AMPLITUDE3': 550.6810890931195, 'SWIR2_INTP': 756.4265246936493, 'SWIR2_PHASE': 700.7683600855303, 'SWIR2_PHASE2': 492.15404173198556, 'SWIR2_PHASE3': 445.77052875338785, 'SWIR2_RMSE': 744.5034814920731, 'SWIR2_SLP': 593.7263046395044, 'SWIR2_SYNT': 805.2060280191187, 'SWIR2_SYNT2': 747.7246890177189, 'TEMPERATURE': 958.9888552566699, 'WATER_OCCURRENCE': 96.5444702150308, 'bagFraction': 0.5, 'ccdDateFormat': 1, 'ccdPath': 'projects/CCDC/v3', 'ccdPrefix': '', 'classPropertyNumeric': 'Glance_Class_ID_level1', 'classPropertyString': 'LC_Class', 'dateFormat': 1, 'endYear': 'End_Year', 'iceSnowPath': 'projects/GLANCE/RESULTS/SNOW/snowIce_freq', 'maxRAINFALL': 803.6503879037538, 'maxTEMPERATURE': 978.4047461863452, 'minLeafPopulation': 1, 'minRAINFALL': 821.5003932701628, 'minTEMPERATURE': 895.645181556218, 'mushroomPath': 'projects/GLANCE/ANCILLARY/TILES/GLOBAL_MAPPING_TILES_V2', 'numberOfSegments': 15, 'numberOfTrees': 200, 'outName': 'LCMAPS_newTrainV5_v1-4-1', 'outPath': 'projects/GLANCE/RESULTS/CLASSIFICATION/VERSION_1/EU/V1-4', 'predMethod': 'RF', 'predictorList': '[\"GREEN_SYNT\",\"GREEN_SYNT2\",\"GREEN_SLP\",\"GREEN_PHASE\",\"GREEN_AMPLITUDE\",\"GREEN_RMSE\",\"GREEN_PHASE2\",\"GREEN_AMPLITUDE2\",\"GREEN_PHASE3\",\"GREEN_AMPLITUDE3\",\"GREEN_INTP\",\"RED_SYNT\",\"RED_SYNT2\",\"RED_SLP\",\"RED_PHASE\",\"RED_AMPLITUDE\",\"RED_RMSE\",\"RED_PHASE2\",\"RED_AMPLITUDE2\",\"RED_PHASE3\",\"RED_AMPLITUDE3\",\"RED_INTP\",\"NIR_SYNT\",\"NIR_SYNT2\",\"NIR_SLP\",\"NIR_PHASE\",\"NIR_AMPLITUDE\",\"NIR_RMSE\",\"NIR_PHASE2\",\"NIR_AMPLITUDE2\",\"NIR_PHASE3\",\"NIR_AMPLITUDE3\",\"NIR_INTP\",\"SWIR1_SYNT\",\"SWIR1_SYNT2\",\"SWIR1_SLP\",\"SWIR1_PHASE\",\"SWIR1_AMPLITUDE\",\"SWIR1_RMSE\",\"SWIR1_PHASE2\",\"SWIR1_AMPLITUDE2\",\"SWIR1_PHASE3\",\"SWIR1_AMPLITUDE3\",\"SWIR1_INTP\",\"SWIR2_SYNT\",\"SWIR2_SYNT2\",\"SWIR2_SLP\",\"SWIR2_PHASE\",\"SWIR2_AMPLITUDE\",\"SWIR2_RMSE\",\"SWIR2_PHASE2\",\"SWIR2_AMPLITUDE2\",\"SWIR2_PHASE3\",\"SWIR2_AMPLITUDE3\",\"SWIR2_INTP\",\"ELEVATION\",\"ASPECT\",\"DEM_SLOPE\",\"POPULATION\",\"DEVELOPED\",\"WATER_OCCURRENCE\",\"TEMPERATURE\",\"maxTEMPERATURE\",\"minTEMPERATURE\",\"RAINFALL\",\"maxRAINFALL\",\"minRAINFALL\"]', 'seed': 50, 'startYear': 'Start_Year', 'tileID': 315, 'tileName': 'LCMAPS_newTrainV5_v1-4-1_315', 'trainProp': 0.2, 'trainingPathOriginal': 'projects/GLANCE/TRAINING/MASTER/EU/EU_V1/EU_Training_Master_V1_2023_03_10', 'trainingPathPredictors': 'projects/GLANCE/TRAINING/MASTER/EU/EU_V1/EU_Training_Master_V1_2023_03_10_predictors_filtered', 'yearOffset': 0.5, 'yearProperty': 'trainYear'}\n"
     ]
    }
   ],
   "source": [
    "print(ee.Image('projects/GLANCE/RESULTS/CLASSIFICATION/VERSION_1/EU/V1-4/LCMAPS_newTrainV5_v1-4-1_315').toDictionary().getInfo())"
   ]
  },
  {
   "attachments": {},
   "cell_type": "markdown",
   "metadata": {},
   "source": [
    "## Change permissions"
   ]
  },
  {
   "cell_type": "code",
   "execution_count": 25,
   "metadata": {
    "collapsed": true,
    "jupyter": {
     "outputs_hidden": true
    },
    "tags": []
   },
   "outputs": [
    {
     "data": {
      "text/plain": [
       "[None,\n",
       " None,\n",
       " None,\n",
       " None,\n",
       " None,\n",
       " None,\n",
       " None,\n",
       " None,\n",
       " None,\n",
       " None,\n",
       " None,\n",
       " None,\n",
       " None,\n",
       " None,\n",
       " None,\n",
       " None,\n",
       " None,\n",
       " None,\n",
       " None,\n",
       " None,\n",
       " None,\n",
       " None,\n",
       " None,\n",
       " None,\n",
       " None,\n",
       " None,\n",
       " None,\n",
       " None,\n",
       " None,\n",
       " None,\n",
       " None,\n",
       " None,\n",
       " None,\n",
       " None,\n",
       " None,\n",
       " None,\n",
       " None,\n",
       " None,\n",
       " None,\n",
       " None,\n",
       " None,\n",
       " None,\n",
       " None,\n",
       " None,\n",
       " None,\n",
       " None,\n",
       " None,\n",
       " None,\n",
       " None,\n",
       " None,\n",
       " None,\n",
       " None,\n",
       " None,\n",
       " None,\n",
       " None,\n",
       " None,\n",
       " None,\n",
       " None,\n",
       " None,\n",
       " None,\n",
       " None,\n",
       " None,\n",
       " None,\n",
       " None,\n",
       " None,\n",
       " None,\n",
       " None,\n",
       " None,\n",
       " None,\n",
       " None,\n",
       " None,\n",
       " None,\n",
       " None,\n",
       " None,\n",
       " None,\n",
       " None,\n",
       " None,\n",
       " None,\n",
       " None,\n",
       " None,\n",
       " None,\n",
       " None,\n",
       " None,\n",
       " None,\n",
       " None,\n",
       " None,\n",
       " None,\n",
       " None,\n",
       " None,\n",
       " None,\n",
       " None,\n",
       " None,\n",
       " None,\n",
       " None,\n",
       " None,\n",
       " None,\n",
       " None,\n",
       " None,\n",
       " None,\n",
       " None,\n",
       " None,\n",
       " None,\n",
       " None,\n",
       " None,\n",
       " None,\n",
       " None,\n",
       " None,\n",
       " None,\n",
       " None,\n",
       " None,\n",
       " None,\n",
       " None,\n",
       " None,\n",
       " None,\n",
       " None,\n",
       " None,\n",
       " None,\n",
       " None,\n",
       " None,\n",
       " None,\n",
       " None,\n",
       " None,\n",
       " None,\n",
       " None,\n",
       " None,\n",
       " None,\n",
       " None,\n",
       " None,\n",
       " None,\n",
       " None,\n",
       " None,\n",
       " None,\n",
       " None,\n",
       " None,\n",
       " None,\n",
       " None,\n",
       " None,\n",
       " None,\n",
       " None]"
      ]
     },
     "execution_count": 25,
     "metadata": {},
     "output_type": "execute_result"
    }
   ],
   "source": [
    "BASEFOLDER = \"projects/earthengine-legacy/assets/projects/GLANCE/RESULTS/CLASSIFICATION/VERSION_1/\"\n",
    "folder = BASEFOLDER + \"NA/V1-2\"\n",
    "subs = 'LCMAPS'\n",
    "\n",
    "asset_list = ee.data.listAssets({'parent': folder})['assets']\n",
    "asset_id_list = [x['id'] for x in asset_list]\n",
    "# print(asset_id_list)\n",
    "\n",
    "# Change ACL\n",
    "[ee.data.setAssetAcl(i, {'readers': ['allUsers']}) for i in asset_id_list if subs in i]\n",
    "# changed\n"
   ]
  },
  {
   "cell_type": "code",
   "execution_count": null,
   "metadata": {},
   "outputs": [],
   "source": []
  },
  {
   "cell_type": "code",
   "execution_count": 19,
   "metadata": {},
   "outputs": [
    {
     "data": {
      "text/plain": [
       "{'owners': ['group:glanceBU@googlegroups.com'],\n",
       " 'readers': [],\n",
       " 'writers': [],\n",
       " 'all_users_can_read': True}"
      ]
     },
     "execution_count": 19,
     "metadata": {},
     "output_type": "execute_result"
    }
   ],
   "source": [
    "ee.data.getAssetAcl(asset_id_list[2])"
   ]
  },
  {
   "cell_type": "code",
   "execution_count": 21,
   "metadata": {},
   "outputs": [
    {
     "data": {
      "text/plain": [
       "{'owners': ['group:glanceBU@googlegroups.com'], 'readers': [], 'writers': []}"
      ]
     },
     "execution_count": 21,
     "metadata": {},
     "output_type": "execute_result"
    }
   ],
   "source": [
    "ee.data.getAssetAcl(\"projects/earthengine-legacy/assets/projects/GLANCE/WEST_AFRICA/ccd_sma\")"
   ]
  },
  {
   "cell_type": "code",
   "execution_count": null,
   "metadata": {},
   "outputs": [],
   "source": [
    "ee.data."
   ]
  }
 ],
 "metadata": {
  "kernelspec": {
   "display_name": "gee",
   "language": "python",
   "name": "python3"
  },
  "language_info": {
   "codemirror_mode": {
    "name": "ipython",
    "version": 3
   },
   "file_extension": ".py",
   "mimetype": "text/x-python",
   "name": "python",
   "nbconvert_exporter": "python",
   "pygments_lexer": "ipython3",
   "version": "3.7.13"
  },
  "vscode": {
   "interpreter": {
    "hash": "83f90aab9a3f74bb03d229f4981464ad16489d0dc0b3591eb8bc276199615bbd"
   }
  }
 },
 "nbformat": 4,
 "nbformat_minor": 4
}
