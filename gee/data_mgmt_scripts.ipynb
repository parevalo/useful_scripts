{
 "cells": [
  {
   "cell_type": "code",
   "execution_count": 1,
   "metadata": {},
   "outputs": [],
   "source": [
    "import ee\n",
    "ee.Initialize()"
   ]
  },
  {
   "cell_type": "markdown",
   "metadata": {},
   "source": [
    "## Delete assets in folder"
   ]
  },
  {
   "cell_type": "code",
   "execution_count": 15,
   "metadata": {},
   "outputs": [
    {
     "data": {
      "text/plain": [
       "['projects/GLANCE/RESULTS/CLASSIFICATION/TRAINING/ra_training_10_3_2019_all',\n",
       " 'projects/GLANCE/RESULTS/CLASSIFICATION/TRAINING/ra_training_10_3_2019_lat_0',\n",
       " 'projects/GLANCE/RESULTS/CLASSIFICATION/TRAINING/ra_training_10_3_2019_lat_1',\n",
       " 'projects/GLANCE/RESULTS/CLASSIFICATION/TRAINING/ra_training_10_3_2019_lat_2',\n",
       " 'projects/GLANCE/RESULTS/CLASSIFICATION/TRAINING/ra_training_10_3_2019_lat_3',\n",
       " 'projects/GLANCE/RESULTS/CLASSIFICATION/TRAINING/ra_training_10_3_2019_lat_4',\n",
       " 'projects/GLANCE/RESULTS/CLASSIFICATION/TRAINING/ra_training_10_3_2019_lat_5']"
      ]
     },
     "execution_count": 15,
     "metadata": {},
     "output_type": "execute_result"
    }
   ],
   "source": [
    "# folder = \"projects/earthengine-legacy/assets/projects/AREA2/parevalo/BIOMASS/\"\n",
    "folder = \"projects/earthengine-legacy/assets/projects/GLANCE/RESULTS/CLASSIFICATION/TRAINING\"\n",
    "subs = 'ra_'\n",
    "\n",
    "asset_list = ee.data.listAssets({'parent': folder})['assets']\n",
    "asset_id_list = [x['id'] for x in asset_list]\n",
    "delete_list = [i for i in asset_id_list if subs in i]\n",
    "delete_list"
   ]
  },
  {
   "cell_type": "code",
   "execution_count": 16,
   "metadata": {},
   "outputs": [
    {
     "data": {
      "text/plain": [
       "[None, None, None, None, None, None, None]"
      ]
     },
     "execution_count": 16,
     "metadata": {},
     "output_type": "execute_result"
    }
   ],
   "source": [
    "[ee.data.deleteAsset(i) for i in delete_list]"
   ]
  },
  {
   "cell_type": "markdown",
   "metadata": {},
   "source": [
    "### Move assets in folder"
   ]
  },
  {
   "cell_type": "code",
   "execution_count": 53,
   "metadata": {
    "collapsed": true,
    "jupyter": {
     "outputs_hidden": true
    }
   },
   "outputs": [
    {
     "data": {
      "text/plain": [
       "['projects/GLANCE/RESULTS/CLASSIFICATION/VERSION_1/Europe/Europe_V0/Classified_Grid_V0_1013',\n",
       " 'projects/GLANCE/RESULTS/CLASSIFICATION/VERSION_1/Europe/Europe_V0/Classified_Grid_V0_1014',\n",
       " 'projects/GLANCE/RESULTS/CLASSIFICATION/VERSION_1/Europe/Europe_V0/Classified_Grid_V0_1015',\n",
       " 'projects/GLANCE/RESULTS/CLASSIFICATION/VERSION_1/Europe/Europe_V0/Classified_Grid_V0_1016',\n",
       " 'projects/GLANCE/RESULTS/CLASSIFICATION/VERSION_1/Europe/Europe_V0/Classified_Grid_V0_1017',\n",
       " 'projects/GLANCE/RESULTS/CLASSIFICATION/VERSION_1/Europe/Europe_V0/Classified_Grid_V0_1018',\n",
       " 'projects/GLANCE/RESULTS/CLASSIFICATION/VERSION_1/Europe/Europe_V0/Classified_Grid_V0_1019',\n",
       " 'projects/GLANCE/RESULTS/CLASSIFICATION/VERSION_1/Europe/Europe_V0/Classified_Grid_V0_1020',\n",
       " 'projects/GLANCE/RESULTS/CLASSIFICATION/VERSION_1/Europe/Europe_V0/Classified_Grid_V0_1021',\n",
       " 'projects/GLANCE/RESULTS/CLASSIFICATION/VERSION_1/Europe/Europe_V0/Classified_Grid_V0_1022',\n",
       " 'projects/GLANCE/RESULTS/CLASSIFICATION/VERSION_1/Europe/Europe_V0/Classified_Grid_V0_1023',\n",
       " 'projects/GLANCE/RESULTS/CLASSIFICATION/VERSION_1/Europe/Europe_V0/Classified_Grid_V0_1024',\n",
       " 'projects/GLANCE/RESULTS/CLASSIFICATION/VERSION_1/Europe/Europe_V0/Classified_Grid_V0_1025',\n",
       " 'projects/GLANCE/RESULTS/CLASSIFICATION/VERSION_1/Europe/Europe_V0/Classified_Grid_V0_1026',\n",
       " 'projects/GLANCE/RESULTS/CLASSIFICATION/VERSION_1/Europe/Europe_V0/Classified_Grid_V0_1027',\n",
       " 'projects/GLANCE/RESULTS/CLASSIFICATION/VERSION_1/Europe/Europe_V0/Classified_Grid_V0_1028',\n",
       " 'projects/GLANCE/RESULTS/CLASSIFICATION/VERSION_1/Europe/Europe_V0/Classified_Grid_V0_1029',\n",
       " 'projects/GLANCE/RESULTS/CLASSIFICATION/VERSION_1/Europe/Europe_V0/Classified_Grid_V0_1030',\n",
       " 'projects/GLANCE/RESULTS/CLASSIFICATION/VERSION_1/Europe/Europe_V0/Classified_Grid_V0_1064',\n",
       " 'projects/GLANCE/RESULTS/CLASSIFICATION/VERSION_1/Europe/Europe_V0/Classified_Grid_V0_1065',\n",
       " 'projects/GLANCE/RESULTS/CLASSIFICATION/VERSION_1/Europe/Europe_V0/Classified_Grid_V0_1066',\n",
       " 'projects/GLANCE/RESULTS/CLASSIFICATION/VERSION_1/Europe/Europe_V0/Classified_Grid_V0_1067',\n",
       " 'projects/GLANCE/RESULTS/CLASSIFICATION/VERSION_1/Europe/Europe_V0/Classified_Grid_V0_1068',\n",
       " 'projects/GLANCE/RESULTS/CLASSIFICATION/VERSION_1/Europe/Europe_V0/Classified_Grid_V0_1069',\n",
       " 'projects/GLANCE/RESULTS/CLASSIFICATION/VERSION_1/Europe/Europe_V0/Classified_Grid_V0_1070',\n",
       " 'projects/GLANCE/RESULTS/CLASSIFICATION/VERSION_1/Europe/Europe_V0/Classified_Grid_V0_1071',\n",
       " 'projects/GLANCE/RESULTS/CLASSIFICATION/VERSION_1/Europe/Europe_V0/Classified_Grid_V0_1072',\n",
       " 'projects/GLANCE/RESULTS/CLASSIFICATION/VERSION_1/Europe/Europe_V0/Classified_Grid_V0_1073',\n",
       " 'projects/GLANCE/RESULTS/CLASSIFICATION/VERSION_1/Europe/Europe_V0/Classified_Grid_V0_1074',\n",
       " 'projects/GLANCE/RESULTS/CLASSIFICATION/VERSION_1/Europe/Europe_V0/Classified_Grid_V0_1075',\n",
       " 'projects/GLANCE/RESULTS/CLASSIFICATION/VERSION_1/Europe/Europe_V0/Classified_Grid_V0_1076',\n",
       " 'projects/GLANCE/RESULTS/CLASSIFICATION/VERSION_1/Europe/Europe_V0/Classified_Grid_V0_1077',\n",
       " 'projects/GLANCE/RESULTS/CLASSIFICATION/VERSION_1/Europe/Europe_V0/Classified_Grid_V0_1078',\n",
       " 'projects/GLANCE/RESULTS/CLASSIFICATION/VERSION_1/Europe/Europe_V0/Classified_Grid_V0_1079',\n",
       " 'projects/GLANCE/RESULTS/CLASSIFICATION/VERSION_1/Europe/Europe_V0/Classified_Grid_V0_1080',\n",
       " 'projects/GLANCE/RESULTS/CLASSIFICATION/VERSION_1/Europe/Europe_V0/Classified_Grid_V0_1116',\n",
       " 'projects/GLANCE/RESULTS/CLASSIFICATION/VERSION_1/Europe/Europe_V0/Classified_Grid_V0_1117',\n",
       " 'projects/GLANCE/RESULTS/CLASSIFICATION/VERSION_1/Europe/Europe_V0/Classified_Grid_V0_1118',\n",
       " 'projects/GLANCE/RESULTS/CLASSIFICATION/VERSION_1/Europe/Europe_V0/Classified_Grid_V0_1119',\n",
       " 'projects/GLANCE/RESULTS/CLASSIFICATION/VERSION_1/Europe/Europe_V0/Classified_Grid_V0_1120',\n",
       " 'projects/GLANCE/RESULTS/CLASSIFICATION/VERSION_1/Europe/Europe_V0/Classified_Grid_V0_1121',\n",
       " 'projects/GLANCE/RESULTS/CLASSIFICATION/VERSION_1/Europe/Europe_V0/Classified_Grid_V0_1122',\n",
       " 'projects/GLANCE/RESULTS/CLASSIFICATION/VERSION_1/Europe/Europe_V0/Classified_Grid_V0_1123',\n",
       " 'projects/GLANCE/RESULTS/CLASSIFICATION/VERSION_1/Europe/Europe_V0/Classified_Grid_V0_1124',\n",
       " 'projects/GLANCE/RESULTS/CLASSIFICATION/VERSION_1/Europe/Europe_V0/Classified_Grid_V0_1125',\n",
       " 'projects/GLANCE/RESULTS/CLASSIFICATION/VERSION_1/Europe/Europe_V0/Classified_Grid_V0_1126',\n",
       " 'projects/GLANCE/RESULTS/CLASSIFICATION/VERSION_1/Europe/Europe_V0/Classified_Grid_V0_1127',\n",
       " 'projects/GLANCE/RESULTS/CLASSIFICATION/VERSION_1/Europe/Europe_V0/Classified_Grid_V0_1128',\n",
       " 'projects/GLANCE/RESULTS/CLASSIFICATION/VERSION_1/Europe/Europe_V0/Classified_Grid_V0_1129',\n",
       " 'projects/GLANCE/RESULTS/CLASSIFICATION/VERSION_1/Europe/Europe_V0/Classified_Grid_V0_1174',\n",
       " 'projects/GLANCE/RESULTS/CLASSIFICATION/VERSION_1/Europe/Europe_V0/Classified_Grid_V0_1175',\n",
       " 'projects/GLANCE/RESULTS/CLASSIFICATION/VERSION_1/Europe/Europe_V0/Classified_Grid_V0_1176',\n",
       " 'projects/GLANCE/RESULTS/CLASSIFICATION/VERSION_1/Europe/Europe_V0/Classified_Grid_V0_1177',\n",
       " 'projects/GLANCE/RESULTS/CLASSIFICATION/VERSION_1/Europe/Europe_V0/Classified_Grid_V0_1178',\n",
       " 'projects/GLANCE/RESULTS/CLASSIFICATION/VERSION_1/Europe/Europe_V0/Classified_Grid_V0_1179',\n",
       " 'projects/GLANCE/RESULTS/CLASSIFICATION/VERSION_1/Europe/Europe_V0/Classified_Grid_V0_1180',\n",
       " 'projects/GLANCE/RESULTS/CLASSIFICATION/VERSION_1/Europe/Europe_V0/Classified_Grid_V0_1181',\n",
       " 'projects/GLANCE/RESULTS/CLASSIFICATION/VERSION_1/Europe/Europe_V0/Classified_Grid_V0_1182',\n",
       " 'projects/GLANCE/RESULTS/CLASSIFICATION/VERSION_1/Europe/Europe_V0/Classified_Grid_V0_1183',\n",
       " 'projects/GLANCE/RESULTS/CLASSIFICATION/VERSION_1/Europe/Europe_V0/Classified_Grid_V0_1184',\n",
       " 'projects/GLANCE/RESULTS/CLASSIFICATION/VERSION_1/Europe/Europe_V0/Classified_Grid_V0_1185',\n",
       " 'projects/GLANCE/RESULTS/CLASSIFICATION/VERSION_1/Europe/Europe_V0/Classified_Grid_V0_1186',\n",
       " 'projects/GLANCE/RESULTS/CLASSIFICATION/VERSION_1/Europe/Europe_V0/Classified_Grid_V0_1187',\n",
       " 'projects/GLANCE/RESULTS/CLASSIFICATION/VERSION_1/Europe/Europe_V0/Classified_Grid_V0_1188',\n",
       " 'projects/GLANCE/RESULTS/CLASSIFICATION/VERSION_1/Europe/Europe_V0/Classified_Grid_V0_1239',\n",
       " 'projects/GLANCE/RESULTS/CLASSIFICATION/VERSION_1/Europe/Europe_V0/Classified_Grid_V0_1240',\n",
       " 'projects/GLANCE/RESULTS/CLASSIFICATION/VERSION_1/Europe/Europe_V0/Classified_Grid_V0_1241',\n",
       " 'projects/GLANCE/RESULTS/CLASSIFICATION/VERSION_1/Europe/Europe_V0/Classified_Grid_V0_1242',\n",
       " 'projects/GLANCE/RESULTS/CLASSIFICATION/VERSION_1/Europe/Europe_V0/Classified_Grid_V0_1243',\n",
       " 'projects/GLANCE/RESULTS/CLASSIFICATION/VERSION_1/Europe/Europe_V0/Classified_Grid_V0_1244',\n",
       " 'projects/GLANCE/RESULTS/CLASSIFICATION/VERSION_1/Europe/Europe_V0/Classified_Grid_V0_1245',\n",
       " 'projects/GLANCE/RESULTS/CLASSIFICATION/VERSION_1/Europe/Europe_V0/Classified_Grid_V0_1246',\n",
       " 'projects/GLANCE/RESULTS/CLASSIFICATION/VERSION_1/Europe/Europe_V0/Classified_Grid_V0_1247',\n",
       " 'projects/GLANCE/RESULTS/CLASSIFICATION/VERSION_1/Europe/Europe_V0/Classified_Grid_V0_1248',\n",
       " 'projects/GLANCE/RESULTS/CLASSIFICATION/VERSION_1/Europe/Europe_V0/Classified_Grid_V0_1249',\n",
       " 'projects/GLANCE/RESULTS/CLASSIFICATION/VERSION_1/Europe/Europe_V0/Classified_Grid_V0_1250',\n",
       " 'projects/GLANCE/RESULTS/CLASSIFICATION/VERSION_1/Europe/Europe_V0/Classified_Grid_V0_1251',\n",
       " 'projects/GLANCE/RESULTS/CLASSIFICATION/VERSION_1/Europe/Europe_V0/Classified_Grid_V0_1252',\n",
       " 'projects/GLANCE/RESULTS/CLASSIFICATION/VERSION_1/Europe/Europe_V0/Classified_Grid_V0_1253',\n",
       " 'projects/GLANCE/RESULTS/CLASSIFICATION/VERSION_1/Europe/Europe_V0/Classified_Grid_V0_1254',\n",
       " 'projects/GLANCE/RESULTS/CLASSIFICATION/VERSION_1/Europe/Europe_V0/Classified_Grid_V0_1255',\n",
       " 'projects/GLANCE/RESULTS/CLASSIFICATION/VERSION_1/Europe/Europe_V0/Classified_Grid_V0_1256',\n",
       " 'projects/GLANCE/RESULTS/CLASSIFICATION/VERSION_1/Europe/Europe_V0/Classified_Grid_V0_1306',\n",
       " 'projects/GLANCE/RESULTS/CLASSIFICATION/VERSION_1/Europe/Europe_V0/Classified_Grid_V0_1307',\n",
       " 'projects/GLANCE/RESULTS/CLASSIFICATION/VERSION_1/Europe/Europe_V0/Classified_Grid_V0_1308',\n",
       " 'projects/GLANCE/RESULTS/CLASSIFICATION/VERSION_1/Europe/Europe_V0/Classified_Grid_V0_1309',\n",
       " 'projects/GLANCE/RESULTS/CLASSIFICATION/VERSION_1/Europe/Europe_V0/Classified_Grid_V0_1310',\n",
       " 'projects/GLANCE/RESULTS/CLASSIFICATION/VERSION_1/Europe/Europe_V0/Classified_Grid_V0_1311',\n",
       " 'projects/GLANCE/RESULTS/CLASSIFICATION/VERSION_1/Europe/Europe_V0/Classified_Grid_V0_1312',\n",
       " 'projects/GLANCE/RESULTS/CLASSIFICATION/VERSION_1/Europe/Europe_V0/Classified_Grid_V0_1313',\n",
       " 'projects/GLANCE/RESULTS/CLASSIFICATION/VERSION_1/Europe/Europe_V0/Classified_Grid_V0_1314',\n",
       " 'projects/GLANCE/RESULTS/CLASSIFICATION/VERSION_1/Europe/Europe_V0/Classified_Grid_V0_1315',\n",
       " 'projects/GLANCE/RESULTS/CLASSIFICATION/VERSION_1/Europe/Europe_V0/Classified_Grid_V0_1316',\n",
       " 'projects/GLANCE/RESULTS/CLASSIFICATION/VERSION_1/Europe/Europe_V0/Classified_Grid_V0_1317',\n",
       " 'projects/GLANCE/RESULTS/CLASSIFICATION/VERSION_1/Europe/Europe_V0/Classified_Grid_V0_1318',\n",
       " 'projects/GLANCE/RESULTS/CLASSIFICATION/VERSION_1/Europe/Europe_V0/Classified_Grid_V0_1319',\n",
       " 'projects/GLANCE/RESULTS/CLASSIFICATION/VERSION_1/Europe/Europe_V0/Classified_Grid_V0_1320',\n",
       " 'projects/GLANCE/RESULTS/CLASSIFICATION/VERSION_1/Europe/Europe_V0/Classified_Grid_V0_1321',\n",
       " 'projects/GLANCE/RESULTS/CLASSIFICATION/VERSION_1/Europe/Europe_V0/Classified_Grid_V0_1322',\n",
       " 'projects/GLANCE/RESULTS/CLASSIFICATION/VERSION_1/Europe/Europe_V0/Classified_Grid_V0_1323',\n",
       " 'projects/GLANCE/RESULTS/CLASSIFICATION/VERSION_1/Europe/Europe_V0/Classified_Grid_V0_1324',\n",
       " 'projects/GLANCE/RESULTS/CLASSIFICATION/VERSION_1/Europe/Europe_V0/Classified_Grid_V0_1325',\n",
       " 'projects/GLANCE/RESULTS/CLASSIFICATION/VERSION_1/Europe/Europe_V0/Classified_Grid_V0_1326',\n",
       " 'projects/GLANCE/RESULTS/CLASSIFICATION/VERSION_1/Europe/Europe_V0/Classified_Grid_V0_1379',\n",
       " 'projects/GLANCE/RESULTS/CLASSIFICATION/VERSION_1/Europe/Europe_V0/Classified_Grid_V0_1380',\n",
       " 'projects/GLANCE/RESULTS/CLASSIFICATION/VERSION_1/Europe/Europe_V0/Classified_Grid_V0_1381',\n",
       " 'projects/GLANCE/RESULTS/CLASSIFICATION/VERSION_1/Europe/Europe_V0/Classified_Grid_V0_1382',\n",
       " 'projects/GLANCE/RESULTS/CLASSIFICATION/VERSION_1/Europe/Europe_V0/Classified_Grid_V0_1383',\n",
       " 'projects/GLANCE/RESULTS/CLASSIFICATION/VERSION_1/Europe/Europe_V0/Classified_Grid_V0_1384',\n",
       " 'projects/GLANCE/RESULTS/CLASSIFICATION/VERSION_1/Europe/Europe_V0/Classified_Grid_V0_1385',\n",
       " 'projects/GLANCE/RESULTS/CLASSIFICATION/VERSION_1/Europe/Europe_V0/Classified_Grid_V0_1386',\n",
       " 'projects/GLANCE/RESULTS/CLASSIFICATION/VERSION_1/Europe/Europe_V0/Classified_Grid_V0_1387',\n",
       " 'projects/GLANCE/RESULTS/CLASSIFICATION/VERSION_1/Europe/Europe_V0/Classified_Grid_V0_1388',\n",
       " 'projects/GLANCE/RESULTS/CLASSIFICATION/VERSION_1/Europe/Europe_V0/Classified_Grid_V0_1389',\n",
       " 'projects/GLANCE/RESULTS/CLASSIFICATION/VERSION_1/Europe/Europe_V0/Classified_Grid_V0_1390',\n",
       " 'projects/GLANCE/RESULTS/CLASSIFICATION/VERSION_1/Europe/Europe_V0/Classified_Grid_V0_1391',\n",
       " 'projects/GLANCE/RESULTS/CLASSIFICATION/VERSION_1/Europe/Europe_V0/Classified_Grid_V0_1392',\n",
       " 'projects/GLANCE/RESULTS/CLASSIFICATION/VERSION_1/Europe/Europe_V0/Classified_Grid_V0_1393',\n",
       " 'projects/GLANCE/RESULTS/CLASSIFICATION/VERSION_1/Europe/Europe_V0/Classified_Grid_V0_1394',\n",
       " 'projects/GLANCE/RESULTS/CLASSIFICATION/VERSION_1/Europe/Europe_V0/Classified_Grid_V0_1395',\n",
       " 'projects/GLANCE/RESULTS/CLASSIFICATION/VERSION_1/Europe/Europe_V0/Classified_Grid_V0_1396',\n",
       " 'projects/GLANCE/RESULTS/CLASSIFICATION/VERSION_1/Europe/Europe_V0/Classified_Grid_V0_1397',\n",
       " 'projects/GLANCE/RESULTS/CLASSIFICATION/VERSION_1/Europe/Europe_V0/Classified_Grid_V0_1449',\n",
       " 'projects/GLANCE/RESULTS/CLASSIFICATION/VERSION_1/Europe/Europe_V0/Classified_Grid_V0_1450',\n",
       " 'projects/GLANCE/RESULTS/CLASSIFICATION/VERSION_1/Europe/Europe_V0/Classified_Grid_V0_1451',\n",
       " 'projects/GLANCE/RESULTS/CLASSIFICATION/VERSION_1/Europe/Europe_V0/Classified_Grid_V0_1452',\n",
       " 'projects/GLANCE/RESULTS/CLASSIFICATION/VERSION_1/Europe/Europe_V0/Classified_Grid_V0_1453',\n",
       " 'projects/GLANCE/RESULTS/CLASSIFICATION/VERSION_1/Europe/Europe_V0/Classified_Grid_V0_1454',\n",
       " 'projects/GLANCE/RESULTS/CLASSIFICATION/VERSION_1/Europe/Europe_V0/Classified_Grid_V0_1455',\n",
       " 'projects/GLANCE/RESULTS/CLASSIFICATION/VERSION_1/Europe/Europe_V0/Classified_Grid_V0_1456',\n",
       " 'projects/GLANCE/RESULTS/CLASSIFICATION/VERSION_1/Europe/Europe_V0/Classified_Grid_V0_1457',\n",
       " 'projects/GLANCE/RESULTS/CLASSIFICATION/VERSION_1/Europe/Europe_V0/Classified_Grid_V0_1458',\n",
       " 'projects/GLANCE/RESULTS/CLASSIFICATION/VERSION_1/Europe/Europe_V0/Classified_Grid_V0_1459',\n",
       " 'projects/GLANCE/RESULTS/CLASSIFICATION/VERSION_1/Europe/Europe_V0/Classified_Grid_V0_1460',\n",
       " 'projects/GLANCE/RESULTS/CLASSIFICATION/VERSION_1/Europe/Europe_V0/Classified_Grid_V0_1461',\n",
       " 'projects/GLANCE/RESULTS/CLASSIFICATION/VERSION_1/Europe/Europe_V0/Classified_Grid_V0_1462',\n",
       " 'projects/GLANCE/RESULTS/CLASSIFICATION/VERSION_1/Europe/Europe_V0/Classified_Grid_V0_1463',\n",
       " 'projects/GLANCE/RESULTS/CLASSIFICATION/VERSION_1/Europe/Europe_V0/Classified_Grid_V0_1464',\n",
       " 'projects/GLANCE/RESULTS/CLASSIFICATION/VERSION_1/Europe/Europe_V0/Classified_Grid_V0_1465']"
      ]
     },
     "execution_count": 53,
     "metadata": {},
     "output_type": "execute_result"
    }
   ],
   "source": [
    "BASEFOLDER = \"projects/earthengine-legacy/assets/projects/GLANCE/RESULTS/CLASSIFICATION/VERSION_1/\"\n",
    "folder = BASEFOLDER + \"Europe/Europe_V0/\"\n",
    "newfolder = BASEFOLDER + \"EU/V0/\"\n",
    "subs = 'Classified'\n",
    "\n",
    "asset_list = ee.data.listAssets({'parent': folder})['assets']\n",
    "asset_id_list = [x['id'] for x in asset_list]\n",
    "\n",
    "# Get filenames\n",
    "move_list = [i for i in asset_id_list if subs in i]\n",
    "move_list"
   ]
  },
  {
   "cell_type": "code",
   "execution_count": 54,
   "metadata": {},
   "outputs": [],
   "source": [
    "for i in move_list:\n",
    "    fname = i.split(\"/\")[-1]\n",
    "    ee.data.renameAsset(i, newfolder + fname) "
   ]
  },
  {
   "cell_type": "code",
   "execution_count": null,
   "metadata": {},
   "outputs": [],
   "source": []
  }
 ],
 "metadata": {
  "kernelspec": {
   "display_name": "Python 3",
   "language": "python",
   "name": "python3"
  },
  "language_info": {
   "codemirror_mode": {
    "name": "ipython",
    "version": 3
   },
   "file_extension": ".py",
   "mimetype": "text/x-python",
   "name": "python",
   "nbconvert_exporter": "python",
   "pygments_lexer": "ipython3",
   "version": "3.7.6"
  }
 },
 "nbformat": 4,
 "nbformat_minor": 4
}
