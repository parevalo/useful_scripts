{
 "cells": [
  {
   "cell_type": "code",
   "execution_count": 5,
   "metadata": {},
   "outputs": [],
   "source": [
    "import ee\n",
    "ee.Initialize()"
   ]
  },
  {
   "cell_type": "markdown",
   "metadata": {},
   "source": [
    "## Delete assets in folder"
   ]
  },
  {
   "cell_type": "code",
   "execution_count": 49,
   "metadata": {},
   "outputs": [
    {
     "data": {
      "text/plain": [
       "['users/parevalo_bu/biomass/features/formattedTraining_h10v8',\n",
       " 'users/parevalo_bu/biomass/features/formattedTraining_h10v9',\n",
       " 'users/parevalo_bu/biomass/features/formattedTraining_h11v10',\n",
       " 'users/parevalo_bu/biomass/features/formattedTraining_h11v8',\n",
       " 'users/parevalo_bu/biomass/features/formattedTraining_h11v9',\n",
       " 'users/parevalo_bu/biomass/features/formattedTraining_h12v10',\n",
       " 'users/parevalo_bu/biomass/features/formattedTraining_h12v8',\n",
       " 'users/parevalo_bu/biomass/features/formattedTraining_h13v9']"
      ]
     },
     "execution_count": 49,
     "metadata": {},
     "output_type": "execute_result"
    }
   ],
   "source": [
    "folder = \"projects/earthengine-legacy/assets/users/parevalo_bu/biomass/features/\"\n",
    "subs = 'formattedTraining'\n",
    "\n",
    "asset_list = ee.data.listAssets({'parent': folder})['assets']\n",
    "asset_id_list = [x['id'] for x in asset_list]\n",
    "delete_list = [i for i in asset_id_list if subs in i]\n",
    "delete_list"
   ]
  },
  {
   "cell_type": "code",
   "execution_count": 50,
   "metadata": {},
   "outputs": [
    {
     "data": {
      "text/plain": [
       "[None, None, None, None, None, None, None, None]"
      ]
     },
     "execution_count": 50,
     "metadata": {},
     "output_type": "execute_result"
    }
   ],
   "source": [
    "[ee.data.deleteAsset(i) for i in delete_list]"
   ]
  }
 ],
 "metadata": {
  "kernelspec": {
   "display_name": "Python 3",
   "language": "python",
   "name": "python3"
  },
  "language_info": {
   "codemirror_mode": {
    "name": "ipython",
    "version": 3
   },
   "file_extension": ".py",
   "mimetype": "text/x-python",
   "name": "python",
   "nbconvert_exporter": "python",
   "pygments_lexer": "ipython3",
   "version": "3.7.6"
  }
 },
 "nbformat": 4,
 "nbformat_minor": 4
}
