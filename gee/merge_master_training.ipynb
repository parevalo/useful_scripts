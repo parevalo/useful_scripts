{
 "cells": [
  {
   "cell_type": "code",
   "execution_count": 1,
   "metadata": {},
   "outputs": [],
   "source": [
    "import pandas as pd\n",
    "import numpy as np\n",
    "import csv"
   ]
  },
  {
   "cell_type": "code",
   "execution_count": 2,
   "metadata": {},
   "outputs": [],
   "source": [
    "ESSENTIAL_COLUMNS = [\n",
    "    'ID',\n",
    "    'Lat',\n",
    "    'Lon',\n",
    "    'Start_Year',\n",
    "    'End_Year',\n",
    "    'LC_Class',\n",
    "    'Dataset',\n",
    "    'Dataset_Code',\n",
    "    'Continent',\n",
    "    'Continent_Code',\n",
    "    'Level1_Ecoregion',\n",
    "    'Level2_Ecoregion',\n",
    "    'Glance_Class_ID_level1',\n",
    "    'Glance_Class_ID_level2',\n",
    "    'Glance_ID'\n",
    "]"
   ]
  },
  {
   "cell_type": "code",
   "execution_count": 12,
   "metadata": {},
   "outputs": [],
   "source": [
    "DATA_PATH = \"/home/paulo/Insync/parevalo@bu.edu/Google Drive/NASA_MEaSUREs/Training data/Spreadsheets_Continents/SA/\"\n",
    "V0 = DATA_PATH + \"Training_Master_V0/\"\n",
    "V1 = DATA_PATH + \"Training_Master_V1/\""
   ]
  },
  {
   "cell_type": "code",
   "execution_count": 10,
   "metadata": {},
   "outputs": [],
   "source": [
    "clustering = pd.read_csv(CLUSTERING + \"SA_Clustering_interpretations_Essential_Columns_For_Training_Master_V1_2020_05_06.csv\")\n",
    "master = pd.read_csv(REGULAR + \"SA_Training_Master_V0_2020_05_29.csv\", low_memory=False) "
   ]
  },
  {
   "cell_type": "code",
   "execution_count": 11,
   "metadata": {},
   "outputs": [],
   "source": [
    "fullmaster = pd.concat([master[ESSENTIAL_COLUMNS], clustering], ignore_index=True) # Ignore_index resets the index"
   ]
  },
  {
   "cell_type": "code",
   "execution_count": 13,
   "metadata": {},
   "outputs": [],
   "source": [
    "fullmaster.to_csv(V1 + 'SA_Training_Master_V1_2020_06_01.csv', index_label=\"Index\")"
   ]
  },
  {
   "cell_type": "code",
   "execution_count": null,
   "metadata": {},
   "outputs": [],
   "source": []
  }
 ],
 "metadata": {
  "kernelspec": {
   "display_name": "Python 3",
   "language": "python",
   "name": "python3"
  },
  "language_info": {
   "codemirror_mode": {
    "name": "ipython",
    "version": 3
   },
   "file_extension": ".py",
   "mimetype": "text/x-python",
   "name": "python",
   "nbconvert_exporter": "python",
   "pygments_lexer": "ipython3",
   "version": "3.7.6"
  }
 },
 "nbformat": 4,
 "nbformat_minor": 4
}
